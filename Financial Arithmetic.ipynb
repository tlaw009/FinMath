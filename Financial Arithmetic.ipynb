{
 "cells": [
  {
   "cell_type": "markdown",
   "metadata": {},
   "source": [
    "### Install dependencies"
   ]
  },
  {
   "cell_type": "code",
   "execution_count": 1,
   "metadata": {
    "scrolled": true
   },
   "outputs": [],
   "source": [
    "import yfinance as yf\n",
    "import numpy as np\n",
    "import pandas as pd\n",
    "from matplotlib import pyplot as plt"
   ]
  },
  {
   "cell_type": "markdown",
   "metadata": {},
   "source": [
    "### Position string vector"
   ]
  },
  {
   "cell_type": "code",
   "execution_count": 2,
   "metadata": {},
   "outputs": [],
   "source": [
    "portfolio_1 = [\"GE\", \"MSFT\", \"IBM\"] # GE, Microsoft"
   ]
  },
  {
   "cell_type": "markdown",
   "metadata": {},
   "source": [
    "### Test data format"
   ]
  },
  {
   "cell_type": "code",
   "execution_count": 3,
   "metadata": {},
   "outputs": [
    {
     "name": "stdout",
     "output_type": "stream",
     "text": [
      "[*********************100%***********************]  1 of 1 completed\n"
     ]
    },
    {
     "data": {
      "text/html": [
       "<div>\n",
       "<style scoped>\n",
       "    .dataframe tbody tr th:only-of-type {\n",
       "        vertical-align: middle;\n",
       "    }\n",
       "\n",
       "    .dataframe tbody tr th {\n",
       "        vertical-align: top;\n",
       "    }\n",
       "\n",
       "    .dataframe thead th {\n",
       "        text-align: right;\n",
       "    }\n",
       "</style>\n",
       "<table border=\"1\" class=\"dataframe\">\n",
       "  <thead>\n",
       "    <tr style=\"text-align: right;\">\n",
       "      <th></th>\n",
       "      <th>Open</th>\n",
       "      <th>High</th>\n",
       "      <th>Low</th>\n",
       "      <th>Close</th>\n",
       "      <th>Adj Close</th>\n",
       "    </tr>\n",
       "    <tr>\n",
       "      <th>Date</th>\n",
       "      <th></th>\n",
       "      <th></th>\n",
       "      <th></th>\n",
       "      <th></th>\n",
       "      <th></th>\n",
       "    </tr>\n",
       "  </thead>\n",
       "  <tbody>\n",
       "    <tr>\n",
       "      <th>2023-05-31</th>\n",
       "      <td>4190.740234</td>\n",
       "      <td>4195.439941</td>\n",
       "      <td>4166.149902</td>\n",
       "      <td>4179.830078</td>\n",
       "      <td>4179.830078</td>\n",
       "    </tr>\n",
       "    <tr>\n",
       "      <th>2023-06-01</th>\n",
       "      <td>4183.029785</td>\n",
       "      <td>4232.430176</td>\n",
       "      <td>4171.640137</td>\n",
       "      <td>4221.020020</td>\n",
       "      <td>4221.020020</td>\n",
       "    </tr>\n",
       "    <tr>\n",
       "      <th>2023-06-02</th>\n",
       "      <td>4241.009766</td>\n",
       "      <td>4290.669922</td>\n",
       "      <td>4241.009766</td>\n",
       "      <td>4282.370117</td>\n",
       "      <td>4282.370117</td>\n",
       "    </tr>\n",
       "    <tr>\n",
       "      <th>2023-06-05</th>\n",
       "      <td>4282.990234</td>\n",
       "      <td>4299.279785</td>\n",
       "      <td>4266.819824</td>\n",
       "      <td>4273.790039</td>\n",
       "      <td>4273.790039</td>\n",
       "    </tr>\n",
       "    <tr>\n",
       "      <th>2023-06-06</th>\n",
       "      <td>4271.339844</td>\n",
       "      <td>4288.330078</td>\n",
       "      <td>4263.089844</td>\n",
       "      <td>4283.850098</td>\n",
       "      <td>4283.850098</td>\n",
       "    </tr>\n",
       "    <tr>\n",
       "      <th>...</th>\n",
       "      <td>...</td>\n",
       "      <td>...</td>\n",
       "      <td>...</td>\n",
       "      <td>...</td>\n",
       "      <td>...</td>\n",
       "    </tr>\n",
       "    <tr>\n",
       "      <th>2023-12-22</th>\n",
       "      <td>4753.919922</td>\n",
       "      <td>4772.939941</td>\n",
       "      <td>4736.770020</td>\n",
       "      <td>4754.629883</td>\n",
       "      <td>4754.629883</td>\n",
       "    </tr>\n",
       "    <tr>\n",
       "      <th>2023-12-26</th>\n",
       "      <td>4758.859863</td>\n",
       "      <td>4784.720215</td>\n",
       "      <td>4758.450195</td>\n",
       "      <td>4774.750000</td>\n",
       "      <td>4774.750000</td>\n",
       "    </tr>\n",
       "    <tr>\n",
       "      <th>2023-12-27</th>\n",
       "      <td>4773.450195</td>\n",
       "      <td>4785.390137</td>\n",
       "      <td>4768.899902</td>\n",
       "      <td>4781.580078</td>\n",
       "      <td>4781.580078</td>\n",
       "    </tr>\n",
       "    <tr>\n",
       "      <th>2023-12-28</th>\n",
       "      <td>4786.439941</td>\n",
       "      <td>4793.299805</td>\n",
       "      <td>4780.979980</td>\n",
       "      <td>4783.350098</td>\n",
       "      <td>4783.350098</td>\n",
       "    </tr>\n",
       "    <tr>\n",
       "      <th>2023-12-29</th>\n",
       "      <td>4782.879883</td>\n",
       "      <td>4788.430176</td>\n",
       "      <td>4751.990234</td>\n",
       "      <td>4769.830078</td>\n",
       "      <td>4769.830078</td>\n",
       "    </tr>\n",
       "  </tbody>\n",
       "</table>\n",
       "<p>148 rows × 5 columns</p>\n",
       "</div>"
      ],
      "text/plain": [
       "                   Open         High          Low        Close    Adj Close\n",
       "Date                                                                       \n",
       "2023-05-31  4190.740234  4195.439941  4166.149902  4179.830078  4179.830078\n",
       "2023-06-01  4183.029785  4232.430176  4171.640137  4221.020020  4221.020020\n",
       "2023-06-02  4241.009766  4290.669922  4241.009766  4282.370117  4282.370117\n",
       "2023-06-05  4282.990234  4299.279785  4266.819824  4273.790039  4273.790039\n",
       "2023-06-06  4271.339844  4288.330078  4263.089844  4283.850098  4283.850098\n",
       "...                 ...          ...          ...          ...          ...\n",
       "2023-12-22  4753.919922  4772.939941  4736.770020  4754.629883  4754.629883\n",
       "2023-12-26  4758.859863  4784.720215  4758.450195  4774.750000  4774.750000\n",
       "2023-12-27  4773.450195  4785.390137  4768.899902  4781.580078  4781.580078\n",
       "2023-12-28  4786.439941  4793.299805  4780.979980  4783.350098  4783.350098\n",
       "2023-12-29  4782.879883  4788.430176  4751.990234  4769.830078  4769.830078\n",
       "\n",
       "[148 rows x 5 columns]"
      ]
     },
     "execution_count": 3,
     "metadata": {},
     "output_type": "execute_result"
    }
   ],
   "source": [
    "data_test = yf.download(\"^GSPC\", start=\"2023-06-01\", end=\"2024-01-01\").drop(columns=[\"Volume\"])\n",
    "data_test"
   ]
  },
  {
   "cell_type": "markdown",
   "metadata": {},
   "source": [
    "### Extract closing price"
   ]
  },
  {
   "cell_type": "code",
   "execution_count": 4,
   "metadata": {},
   "outputs": [],
   "source": [
    "def clean_data(data):\n",
    "    data_clean = data.copy()\n",
    "    for k in data_clean:\n",
    "        for c in data_clean[k].columns.to_list():\n",
    "            if not c == \"Close\":\n",
    "                data_clean[k] = data_clean[k].drop(columns=[c])\n",
    "    return data_clean"
   ]
  },
  {
   "cell_type": "markdown",
   "metadata": {},
   "source": [
    "#### Testing"
   ]
  },
  {
   "cell_type": "code",
   "execution_count": 5,
   "metadata": {},
   "outputs": [
    {
     "name": "stdout",
     "output_type": "stream",
     "text": [
      "[*********************100%***********************]  1 of 1 completed\n"
     ]
    },
    {
     "data": {
      "text/plain": [
       "{'^GSPC':                   Close\n",
       " Date                   \n",
       " 2023-05-31  4179.830078\n",
       " 2023-06-01  4221.020020\n",
       " 2023-06-02  4282.370117\n",
       " 2023-06-05  4273.790039\n",
       " 2023-06-06  4283.850098\n",
       " ...                 ...\n",
       " 2023-12-22  4754.629883\n",
       " 2023-12-26  4774.750000\n",
       " 2023-12-27  4781.580078\n",
       " 2023-12-28  4783.350098\n",
       " 2023-12-29  4769.830078\n",
       " \n",
       " [148 rows x 1 columns]}"
      ]
     },
     "execution_count": 5,
     "metadata": {},
     "output_type": "execute_result"
    }
   ],
   "source": [
    "data_Mp = {\"^GSPC\": yf.download(\"^GSPC\", start=\"2023-06-01\", end=\"2024-01-01\")}\n",
    "data_Mp_clean = clean_data(data_Mp)\n",
    "data_Mp_clean"
   ]
  },
  {
   "cell_type": "markdown",
   "metadata": {},
   "source": [
    "### Plot prices changes"
   ]
  },
  {
   "cell_type": "code",
   "execution_count": 6,
   "metadata": {},
   "outputs": [],
   "source": [
    "import matplotlib.pyplot as plt"
   ]
  },
  {
   "cell_type": "code",
   "execution_count": 7,
   "metadata": {},
   "outputs": [
    {
     "data": {
      "image/png": "[encoded data removed]",
      "text/plain": [
       "<Figure size 432x288 with 1 Axes>"
      ]
     },
     "metadata": {
      "needs_background": "light"
     },
     "output_type": "display_data"
    }
   ],
   "source": [
    "for k in data_Mp_clean:\n",
    "    data_Mp_clean[k].plot(title=k)"
   ]
  },
  {
   "cell_type": "code",
   "execution_count": 9,
   "metadata": {},
   "outputs": [
    {
     "name": "stdout",
     "output_type": "stream",
     "text": [
      "[*********************100%***********************]  1 of 1 completed\n",
      "[*********************100%***********************]  1 of 1 completed\n",
      "[*********************100%***********************]  1 of 1 completed\n"
     ]
    }
   ],
   "source": [
    "data_Mj = {x:yf.download(x, start=\"2023-06-01\", end=\"2024-01-01\") for x in portfolio_1}\n",
    "data_Mj_clean = clean_data(data_Mj)"
   ]
  },
  {
   "cell_type": "code",
   "execution_count": 10,
   "metadata": {},
   "outputs": [
    {
     "data": {
      "text/plain": [
       "<matplotlib.legend.Legend at 0x11481c3d0>"
      ]
     },
     "execution_count": 10,
     "metadata": {},
     "output_type": "execute_result"
    },
    {
     "data": {
      "image/png": "[encoded data removed]",
      "text/plain": [
       "<Figure size 432x288 with 1 Axes>"
      ]
     },
     "metadata": {
      "needs_background": "light"
     },
     "output_type": "display_data"
    }
   ],
   "source": [
    "lege=[]\n",
    "ax = list(data_Mp_clean.values())[0].plot()\n",
    "lege.append(list(data_Mp_clean.keys())[0])\n",
    "for k in data_Mj_clean:\n",
    "    data_Mj_clean[k].plot(ax=ax)\n",
    "    lege.append(k)\n",
    "ax.legend(lege)\n",
    "# for k in data_Mj_clean:\n",
    "#     data_Mj_clean[k].plot(title=k)"
   ]
  },
  {
   "cell_type": "code",
   "execution_count": 12,
   "metadata": {},
   "outputs": [
    {
     "name": "stdout",
     "output_type": "stream",
     "text": [
      "[*********************100%***********************]  1 of 1 completed\n"
     ]
    },
    {
     "data": {
      "text/plain": [
       "{'^IRX':             Close\n",
       " Date             \n",
       " 2023-05-31  5.248\n",
       " 2023-06-01  5.203\n",
       " 2023-06-02  5.215\n",
       " 2023-06-05  5.143\n",
       " 2023-06-06  5.158\n",
       " ...           ...\n",
       " 2023-12-22  5.208\n",
       " 2023-12-26  5.203\n",
       " 2023-12-27  5.235\n",
       " 2023-12-28  5.218\n",
       " 2023-12-29  5.180\n",
       " \n",
       " [147 rows x 1 columns]}"
      ]
     },
     "execution_count": 12,
     "metadata": {},
     "output_type": "execute_result"
    }
   ],
   "source": [
    "data_Rf = {\"^IRX\":yf.download(\"^IRX\", start=\"2023-06-01\", end=\"2024-01-01\")}\n",
    "data_Rf_clean = clean_data(data_Rf)\n",
    "data_Rf_clean"
   ]
  },
  {
   "cell_type": "code",
   "execution_count": 17,
   "metadata": {},
   "outputs": [
    {
     "data": {
      "image/png": "[encoded data removed]",
      "text/plain": [
       "<Figure size 432x288 with 1 Axes>"
      ]
     },
     "metadata": {
      "needs_background": "light"
     },
     "output_type": "display_data"
    }
   ],
   "source": [
    "for k in data_Rf_clean:\n",
    "#     print(data_Rf_clean[k].columns.to_list())\n",
    "    data_Rf_clean[k].plot(title=k)"
   ]
  },
  {
   "cell_type": "markdown",
   "metadata": {},
   "source": [
    "### Computing log daily return"
   ]
  },
  {
   "cell_type": "code",
   "execution_count": 11,
   "metadata": {},
   "outputs": [],
   "source": [
    "def log_return(data, p_v=None):\n",
    "    portf_log_rt = None\n",
    "    if not p_v == None:\n",
    "        init=False\n",
    "        p_i = 0\n",
    "        portf_data = data.copy()\n",
    "    log_data = data.copy()\n",
    "    for k in log_data:\n",
    "        log_rt = np.subtract(np.log(log_data[k]).drop(log_data[k].index[0]),\n",
    "                             np.log(log_data[k]).shift(1).drop(log_data[k].index[0]))\n",
    "        log_rt.rename(columns={log_rt.columns.to_list()[0]: \"Log return\"}, inplace=True)\n",
    "        log_data[k] = log_rt\n",
    "        if not p_v == None:            \n",
    "            if not init:\n",
    "                cumulative_p = p_v[p_i]*portf_data[k].drop(portf_data[k].index[0])\n",
    "                cumulative_s = p_v[p_i]*portf_data[k].shift(1).drop(portf_data[k].index[0])\n",
    "                init = True\n",
    "            else:\n",
    "                cumulative_p = cumulative_p+p_v[p_i]*portf_data[k].drop(portf_data[k].index[0])\n",
    "                cumulative_s = cumulative_s+p_v[p_i]*portf_data[k].shift(1).drop(portf_data[k].index[0])\n",
    "            p_i = p_i+1\n",
    "            \n",
    "    if not p_v == None:\n",
    "        portf_log_rt = np.subtract(np.log(cumulative_p), np.log(cumulative_s))\n",
    "        portf_log_rt.rename(columns={portf_log_rt.columns.to_list()[0]: \"Log return\"}, inplace=True)\n",
    "        \n",
    "    return log_data, {\"Portfolio\":portf_log_rt}\n",
    "\n",
    "def log_return_fixed_income(data):\n",
    "    log_data = data.copy()\n",
    "    for k in log_data:\n",
    "        idx = log_data[k].index[1:]\n",
    "        compound_r = (0.01*log_data[k]).drop(log_data[k].index[-1]).to_numpy()/360.0\n",
    "        day_to_maturity_diff = (log_data[k].index[1:] - log_data[k].index[:-1]).days.to_numpy()\n",
    "        log_data[k] = pd.DataFrame(data=np.log(np.add(1, np.multiply(compound_r,np.expand_dims(day_to_maturity_diff, axis=-1)))),index=idx)\n",
    "        log_data[k].rename(columns={log_data[k].columns.to_list()[0]: \"Log return\"}, inplace=True)\n",
    "    return log_data\n",
    "\n",
    "        "
   ]
  },
  {
   "cell_type": "markdown",
   "metadata": {},
   "source": [
    "#### Testing"
   ]
  },
  {
   "cell_type": "code",
   "execution_count": 143,
   "metadata": {},
   "outputs": [],
   "source": [
    "p_v = [1.1, 1.2, 1.3]"
   ]
  },
  {
   "cell_type": "code",
   "execution_count": 175,
   "metadata": {},
   "outputs": [
    {
     "name": "stdout",
     "output_type": "stream",
     "text": [
      "            Log return\n",
      "Date                  \n",
      "2000-01-04   -0.038686\n",
      "2000-01-05    0.007963\n",
      "2000-01-06    0.001047\n",
      "2000-01-07    0.025775\n",
      "2000-01-10    0.009259\n",
      "...                ...\n",
      "2013-05-24   -0.003026\n",
      "2013-05-28    0.008139\n",
      "2013-05-29    0.000689\n",
      "2013-05-30    0.003255\n",
      "2013-05-31   -0.008384\n",
      "\n",
      "[3372 rows x 1 columns]\n"
     ]
    }
   ],
   "source": [
    "# assert np.sum(p_w) == 1.0\n",
    "data = data_Mj_clean\n",
    "init=False\n",
    "p_i = 0\n",
    "for k in data:\n",
    "    if not init:\n",
    "        cumulative_p = p_v[p_i]*data[k].drop(data[k].index[0])\n",
    "        cumulative_s = p_v[p_i]*data[k].shift(1).drop(data[k].index[0])\n",
    "        init = True\n",
    "    else:\n",
    "        cumulative_p = cumulative_p+p_v[p_i]*data[k].drop(data[k].index[0])\n",
    "        cumulative_s = cumulative_s+p_v[p_i]*data[k].shift(1).drop(data[k].index[0])\n",
    "    p_i = p_i+1\n",
    "    \n",
    "cumulative_log_rt = np.subtract(np.log(cumulative_p), np.log(cumulative_s))\n",
    "cumulative_log_rt.rename(columns={cumulative_log_rt.columns.to_list()[0]: \"Log return\"}, inplace=True)\n",
    "print(cumulative_log_rt)"
   ]
  },
  {
   "cell_type": "code",
   "execution_count": 176,
   "metadata": {},
   "outputs": [
    {
     "name": "stdout",
     "output_type": "stream",
     "text": [
      "{'Portfolio':             Log return\n",
      "Date                  \n",
      "2000-01-04   -0.038686\n",
      "2000-01-05    0.007963\n",
      "2000-01-06    0.001047\n",
      "2000-01-07    0.025775\n",
      "2000-01-10    0.009259\n",
      "...                ...\n",
      "2013-05-24   -0.003026\n",
      "2013-05-28    0.008139\n",
      "2013-05-29    0.000689\n",
      "2013-05-30    0.003255\n",
      "2013-05-31   -0.008384\n",
      "\n",
      "[3372 rows x 1 columns]}\n"
     ]
    }
   ],
   "source": [
    "lr_Mj, lr_Portf = log_return(data_Mj_clean, p_v)\n",
    "print(lr_Portf)"
   ]
  },
  {
   "cell_type": "code",
   "execution_count": 177,
   "metadata": {},
   "outputs": [
    {
     "name": "stdout",
     "output_type": "stream",
     "text": [
      "[*********************100%***********************]  1 of 1 completed\n",
      "[*********************100%***********************]  1 of 1 completed\n",
      "[*********************100%***********************]  1 of 1 completed\n",
      "{'GE':             Log return\n",
      "Date                  \n",
      "2000-01-04   -0.040822\n",
      "2000-01-05   -0.001738\n",
      "2000-01-06    0.013281\n",
      "2000-01-07    0.037991\n",
      "2000-01-10   -0.000413\n",
      "...                ...\n",
      "2013-05-24   -0.005510\n",
      "2013-05-28    0.002971\n",
      "2013-05-29    0.001693\n",
      "2013-05-30   -0.001693\n",
      "2013-05-31   -0.011935\n",
      "\n",
      "[3372 rows x 1 columns], 'MSFT':             Log return\n",
      "Date                  \n",
      "2000-01-04   -0.034364\n",
      "2000-01-05    0.010489\n",
      "2000-01-06   -0.034072\n",
      "2000-01-07    0.012984\n",
      "2000-01-10    0.007265\n",
      "...                ...\n",
      "2013-05-24    0.003508\n",
      "2013-05-28    0.021649\n",
      "2013-05-29   -0.004006\n",
      "2013-05-30    0.004291\n",
      "2013-05-31   -0.003718\n",
      "\n",
      "[3372 rows x 1 columns], 'IBM':             Log return\n",
      "Date                  \n",
      "2000-01-04   -0.034533\n",
      "2000-01-05    0.034533\n",
      "2000-01-06   -0.017392\n",
      "2000-01-07   -0.004396\n",
      "2000-01-10    0.038882\n",
      "...                ...\n",
      "2013-05-24   -0.002137\n",
      "2013-05-28    0.009964\n",
      "2013-05-29    0.000674\n",
      "2013-05-30    0.006902\n",
      "2013-05-31   -0.006421\n",
      "\n",
      "[3372 rows x 1 columns]}\n"
     ]
    }
   ],
   "source": [
    "data_Mj = {x:yf.download(x, start=\"2000-01-03\", end=\"2013-06-01\") for x in portfolio_1}\n",
    "data_Mj_clean = clean_data(data_Mj)\n",
    "lr_Mj, _ = log_return(data_Mj_clean)\n",
    "print(lr_Mj)"
   ]
  },
  {
   "cell_type": "code",
   "execution_count": 178,
   "metadata": {},
   "outputs": [
    {
     "name": "stdout",
     "output_type": "stream",
     "text": [
      "[*********************100%***********************]  1 of 1 completed\n",
      "{'^GSPC':             Log return\n",
      "Date                  \n",
      "2000-01-04   -0.039099\n",
      "2000-01-05    0.001920\n",
      "2000-01-06    0.000955\n",
      "2000-01-07    0.026730\n",
      "2000-01-10    0.011128\n",
      "...                ...\n",
      "2013-05-24   -0.000552\n",
      "2013-05-28    0.006321\n",
      "2013-05-29   -0.007073\n",
      "2013-05-30    0.003664\n",
      "2013-05-31   -0.014411\n",
      "\n",
      "[3372 rows x 1 columns]}\n"
     ]
    }
   ],
   "source": [
    "data_Mp = {\"^GSPC\": yf.download(\"^GSPC\", start=\"2000-01-03\", end=\"2013-06-01\")}\n",
    "data_Mp_clean = clean_data(data_Mp)\n",
    "lr_Mp, _ = log_return(data_Mp_clean)\n",
    "print(lr_Mp)"
   ]
  },
  {
   "cell_type": "code",
   "execution_count": 12,
   "metadata": {},
   "outputs": [
    {
     "name": "stdout",
     "output_type": "stream",
     "text": [
      "[*********************100%***********************]  1 of 1 completed\n"
     ]
    },
    {
     "ename": "NameError",
     "evalue": "name 'portfolio_1' is not defined",
     "output_type": "error",
     "traceback": [
      "\u001b[0;31m---------------------------------------------------------------------------\u001b[0m",
      "\u001b[0;31mNameError\u001b[0m                                 Traceback (most recent call last)",
      "\u001b[0;32m<ipython-input-12-48a63e8c3188>\u001b[0m in \u001b[0;36m<module>\u001b[0;34m\u001b[0m\n\u001b[1;32m      1\u001b[0m \u001b[0mdata_Rf\u001b[0m \u001b[0;34m=\u001b[0m \u001b[0;34m{\u001b[0m\u001b[0;34m\"^IRX\"\u001b[0m\u001b[0;34m:\u001b[0m\u001b[0myf\u001b[0m\u001b[0;34m.\u001b[0m\u001b[0mdownload\u001b[0m\u001b[0;34m(\u001b[0m\u001b[0;34m\"^IRX\"\u001b[0m\u001b[0;34m,\u001b[0m \u001b[0mstart\u001b[0m\u001b[0;34m=\u001b[0m\u001b[0;34m\"2000-01-03\"\u001b[0m\u001b[0;34m,\u001b[0m \u001b[0mend\u001b[0m\u001b[0;34m=\u001b[0m\u001b[0;34m\"2013-06-01\"\u001b[0m\u001b[0;34m)\u001b[0m\u001b[0;34m}\u001b[0m\u001b[0;34m\u001b[0m\u001b[0;34m\u001b[0m\u001b[0m\n\u001b[1;32m      2\u001b[0m \u001b[0mdata_Rf_clean\u001b[0m \u001b[0;34m=\u001b[0m \u001b[0mclean_data\u001b[0m\u001b[0;34m(\u001b[0m\u001b[0mdata_Rf\u001b[0m\u001b[0;34m)\u001b[0m\u001b[0;34m\u001b[0m\u001b[0;34m\u001b[0m\u001b[0m\n\u001b[0;32m----> 3\u001b[0;31m \u001b[0mdata_Mj\u001b[0m \u001b[0;34m=\u001b[0m \u001b[0;34m{\u001b[0m\u001b[0mx\u001b[0m\u001b[0;34m:\u001b[0m\u001b[0myf\u001b[0m\u001b[0;34m.\u001b[0m\u001b[0mdownload\u001b[0m\u001b[0;34m(\u001b[0m\u001b[0mx\u001b[0m\u001b[0;34m,\u001b[0m \u001b[0mstart\u001b[0m\u001b[0;34m=\u001b[0m\u001b[0;34m\"2000-01-03\"\u001b[0m\u001b[0;34m,\u001b[0m \u001b[0mend\u001b[0m\u001b[0;34m=\u001b[0m\u001b[0;34m\"2013-06-01\"\u001b[0m\u001b[0;34m)\u001b[0m \u001b[0;32mfor\u001b[0m \u001b[0mx\u001b[0m \u001b[0;32min\u001b[0m \u001b[0mportfolio_1\u001b[0m\u001b[0;34m}\u001b[0m\u001b[0;34m\u001b[0m\u001b[0;34m\u001b[0m\u001b[0m\n\u001b[0m\u001b[1;32m      4\u001b[0m \u001b[0mdata_Mj_clean\u001b[0m \u001b[0;34m=\u001b[0m \u001b[0mclean_data\u001b[0m\u001b[0;34m(\u001b[0m\u001b[0mdata_Mj\u001b[0m\u001b[0;34m)\u001b[0m\u001b[0;34m\u001b[0m\u001b[0;34m\u001b[0m\u001b[0m\n\u001b[1;32m      5\u001b[0m \u001b[0mdata_Rf_clean\u001b[0m\u001b[0;34m[\u001b[0m\u001b[0;34m\"^IRX\"\u001b[0m\u001b[0;34m]\u001b[0m\u001b[0;34m,\u001b[0m \u001b[0m_\u001b[0m \u001b[0;34m=\u001b[0m \u001b[0mdata_Rf_clean\u001b[0m\u001b[0;34m[\u001b[0m\u001b[0;34m\"^IRX\"\u001b[0m\u001b[0;34m]\u001b[0m\u001b[0;34m.\u001b[0m\u001b[0malign\u001b[0m\u001b[0;34m(\u001b[0m\u001b[0mdata_Mj_clean\u001b[0m\u001b[0;34m[\u001b[0m\u001b[0mportfolio_1\u001b[0m\u001b[0;34m[\u001b[0m\u001b[0;36m0\u001b[0m\u001b[0;34m]\u001b[0m\u001b[0;34m]\u001b[0m\u001b[0;34m,\u001b[0m \u001b[0mmethod\u001b[0m \u001b[0;34m=\u001b[0m \u001b[0;34m'ffill'\u001b[0m\u001b[0;34m)\u001b[0m\u001b[0;34m\u001b[0m\u001b[0;34m\u001b[0m\u001b[0m\n",
      "\u001b[0;31mNameError\u001b[0m: name 'portfolio_1' is not defined"
     ]
    }
   ],
   "source": [
    "data_Rf = {\"^IRX\":yf.download(\"^IRX\", start=\"2000-01-03\", end=\"2013-06-01\")}\n",
    "data_Rf_clean = clean_data(data_Rf)\n",
    "data_Mj = {x:yf.download(x, start=\"2000-01-03\", end=\"2013-06-01\") for x in portfolio_1}\n",
    "data_Mj_clean = clean_data(data_Mj)\n",
    "data_Rf_clean[\"^IRX\"], _ = data_Rf_clean[\"^IRX\"].align(data_Mj_clean[portfolio_1[0]], method = 'ffill')\n",
    "lr_Rf = log_return_fixed_income(data_Rf_clean)\n",
    "print(lr_Rf)"
   ]
  },
  {
   "cell_type": "markdown",
   "metadata": {},
   "source": [
    "### Excess return"
   ]
  },
  {
   "cell_type": "code",
   "execution_count": 180,
   "metadata": {},
   "outputs": [],
   "source": [
    "def excess_r(data_p, data_rf):\n",
    "    exc_data_p = data_p.copy()\n",
    "    rf = list(data_rf.values())[0]\n",
    "    for k in exc_data_p:\n",
    "        exc_data_p[k] = exc_data_p[k] - rf\n",
    "        exc_data_p[k].rename(columns={exc_data_p[k].columns.to_list()[0]: \"Excess log return\"}, inplace=True)\n",
    "    return exc_data_p"
   ]
  },
  {
   "cell_type": "markdown",
   "metadata": {},
   "source": [
    "#### Testing"
   ]
  },
  {
   "cell_type": "code",
   "execution_count": 181,
   "metadata": {},
   "outputs": [
    {
     "name": "stdout",
     "output_type": "stream",
     "text": [
      "[*********************100%***********************]  1 of 1 completed\n",
      "[*********************100%***********************]  1 of 1 completed\n",
      "[*********************100%***********************]  1 of 1 completed\n",
      "[*********************100%***********************]  1 of 1 completed\n",
      "[*********************100%***********************]  1 of 1 completed\n"
     ]
    }
   ],
   "source": [
    "data_Mj = {x:yf.download(x, start=\"2000-01-03\", end=\"2013-06-01\") for x in portfolio_1}\n",
    "data_Mj_clean = clean_data(data_Mj)\n",
    "lr_Mj, lr_Portf = log_return(data_Mj_clean, p_v)\n",
    "\n",
    "data_Mp = {\"^GSPC\": yf.download(\"^GSPC\", start=\"2000-01-03\", end=\"2013-06-01\")}\n",
    "data_Mp_clean = clean_data(data_Mp)\n",
    "lr_Mp, _ = log_return(data_Mp_clean)\n",
    "\n",
    "data_Rf = {\"^IRX\":yf.download(\"^IRX\", start=\"2000-01-03\", end=\"2013-06-01\")}\n",
    "data_Rf_clean = clean_data(data_Rf)\n",
    "data_Rf_clean[\"^IRX\"], _ = data_Rf_clean[\"^IRX\"].align(data_Mj_clean[portfolio_1[0]], method = 'ffill')\n",
    "lr_Rf = log_return_fixed_income(data_Rf_clean)"
   ]
  },
  {
   "cell_type": "code",
   "execution_count": 182,
   "metadata": {},
   "outputs": [
    {
     "name": "stdout",
     "output_type": "stream",
     "text": [
      "{'^GSPC':             Excess log return\n",
      "Date                         \n",
      "2000-01-04          -0.039246\n",
      "2000-01-05           0.001774\n",
      "2000-01-06           0.000809\n",
      "2000-01-07           0.026584\n",
      "2000-01-10           0.010693\n",
      "...                       ...\n",
      "2013-05-24          -0.000553\n",
      "2013-05-28           0.006317\n",
      "2013-05-29          -0.007074\n",
      "2013-05-30           0.003663\n",
      "2013-05-31          -0.014411\n",
      "\n",
      "[3372 rows x 1 columns]}\n"
     ]
    }
   ],
   "source": [
    "excess_r_Mp = excess_r(lr_Mp,lr_Rf)\n",
    "print(excess_r_Mp)"
   ]
  },
  {
   "cell_type": "code",
   "execution_count": 183,
   "metadata": {},
   "outputs": [
    {
     "name": "stdout",
     "output_type": "stream",
     "text": [
      "{'GE':             Excess log return\n",
      "Date                         \n",
      "2000-01-04          -0.040968\n",
      "2000-01-05          -0.001884\n",
      "2000-01-06           0.013135\n",
      "2000-01-07           0.037845\n",
      "2000-01-10          -0.000848\n",
      "...                       ...\n",
      "2013-05-24          -0.005511\n",
      "2013-05-28           0.002966\n",
      "2013-05-29           0.001692\n",
      "2013-05-30          -0.001695\n",
      "2013-05-31          -0.011936\n",
      "\n",
      "[3372 rows x 1 columns], 'MSFT':             Excess log return\n",
      "Date                         \n",
      "2000-01-04          -0.034510\n",
      "2000-01-05           0.010342\n",
      "2000-01-06          -0.034218\n",
      "2000-01-07           0.012838\n",
      "2000-01-10           0.006830\n",
      "...                       ...\n",
      "2013-05-24           0.003507\n",
      "2013-05-28           0.021645\n",
      "2013-05-29          -0.004007\n",
      "2013-05-30           0.004290\n",
      "2013-05-31          -0.003719\n",
      "\n",
      "[3372 rows x 1 columns], 'IBM':             Excess log return\n",
      "Date                         \n",
      "2000-01-04          -0.034680\n",
      "2000-01-05           0.034387\n",
      "2000-01-06          -0.017538\n",
      "2000-01-07          -0.004541\n",
      "2000-01-10           0.038447\n",
      "...                       ...\n",
      "2013-05-24          -0.002138\n",
      "2013-05-28           0.009960\n",
      "2013-05-29           0.000673\n",
      "2013-05-30           0.006901\n",
      "2013-05-31          -0.006422\n",
      "\n",
      "[3372 rows x 1 columns]}\n"
     ]
    }
   ],
   "source": [
    "excess_r_Mj = excess_r(lr_Mj,lr_Rf)\n",
    "print(excess_r_Mj)"
   ]
  },
  {
   "cell_type": "code",
   "execution_count": 184,
   "metadata": {},
   "outputs": [
    {
     "name": "stdout",
     "output_type": "stream",
     "text": [
      "{'Portfolio':             Excess log return\n",
      "Date                         \n",
      "2000-01-04          -0.038832\n",
      "2000-01-05           0.007817\n",
      "2000-01-06           0.000901\n",
      "2000-01-07           0.025630\n",
      "2000-01-10           0.008824\n",
      "...                       ...\n",
      "2013-05-24          -0.003027\n",
      "2013-05-28           0.008135\n",
      "2013-05-29           0.000688\n",
      "2013-05-30           0.003254\n",
      "2013-05-31          -0.008385\n",
      "\n",
      "[3372 rows x 1 columns]}\n"
     ]
    }
   ],
   "source": [
    "excess_r_Pj = excess_r(lr_Portf,lr_Rf)\n",
    "print(excess_r_Pj)"
   ]
  },
  {
   "cell_type": "markdown",
   "metadata": {},
   "source": [
    "### Plot excess returns"
   ]
  },
  {
   "cell_type": "code",
   "execution_count": 162,
   "metadata": {},
   "outputs": [
    {
     "data": {
      "text/plain": [
       "Text(0, 0.5, 'GE')"
      ]
     },
     "execution_count": 162,
     "metadata": {},
     "output_type": "execute_result"
    },
    {
     "data": {
      "image/png": "[encoded data removed]",
      "text/plain": [
       "<Figure size 432x288 with 1 Axes>"
      ]
     },
     "metadata": {
      "needs_background": "light"
     },
     "output_type": "display_data"
    }
   ],
   "source": [
    "plt.scatter(excess_r_Mp[\"^GSPC\"][excess_r_Mp[\"^GSPC\"].columns[0]], \n",
    "            excess_r_Mj[\"GE\"][excess_r_Mj[\"GE\"].columns[0]])\n",
    "plt.title(\"Excess log return\")\n",
    "plt.xlabel(\"SNP500\")\n",
    "plt.ylabel(\"GE\")"
   ]
  },
  {
   "cell_type": "markdown",
   "metadata": {},
   "source": [
    "### Linear Regression"
   ]
  },
  {
   "cell_type": "markdown",
   "metadata": {},
   "source": [
    "#### Least Square ~ Max Likelihood:"
   ]
  },
  {
   "cell_type": "code",
   "execution_count": 185,
   "metadata": {},
   "outputs": [],
   "source": [
    "def ls_lr(x, y):\n",
    "    beta_hat = np.matmul(np.linalg.inv(np.matmul(np.transpose(x), x)), np.matmul(np.transpose(x), y))\n",
    "    y_hat = np.matmul(np.matmul(np.matmul(x, np.linalg.inv(np.matmul(np.transpose(x), x))), np.transpose(x)), y)\n",
    "    residuals = y-y_hat\n",
    "    return beta_hat, residuals"
   ]
  },
  {
   "cell_type": "markdown",
   "metadata": {},
   "source": [
    "#### Testing"
   ]
  },
  {
   "cell_type": "code",
   "execution_count": 186,
   "metadata": {},
   "outputs": [
    {
     "name": "stdout",
     "output_type": "stream",
     "text": [
      "[[[1.18394351]]\n",
      "\n",
      " [[1.04515522]]]\n",
      "(3372, 1)\n",
      "(3372, 3372)\n",
      "(2, 3372, 1)\n",
      "(2, 3372, 1)\n",
      "0.14300390001422336\n"
     ]
    }
   ],
   "source": [
    "x = excess_r_Mp[\"^GSPC\"].to_numpy()\n",
    "y_2 = excess_r_Mj[\"GE\"].to_numpy()\n",
    "y = [excess_r_Mj[\"GE\"].to_numpy(), excess_r_Mj[\"MSFT\"].to_numpy()]\n",
    "# print(x.shape)\n",
    "# print(np.transpose(x).shape)\n",
    "# print(np.matmul(np.transpose(x), x))\n",
    "print(np.matmul(np.linalg.inv(np.matmul(np.transpose(x), x)), np.matmul(np.transpose(x), y)))\n",
    "\n",
    "print(np.matmul(x, np.linalg.inv(np.matmul(np.transpose(x), x))).shape)\n",
    "print(np.matmul(np.matmul(x, np.linalg.inv(np.matmul(np.transpose(x), x))), np.transpose(x)).shape)\n",
    "y_hat = np.matmul(np.matmul(np.matmul(x, np.linalg.inv(np.matmul(np.transpose(x), x))), np.transpose(x)), y)\n",
    "print(y_hat.shape)\n",
    "print(np.array(y).shape)\n",
    "print(np.max(y-y_hat))"
   ]
  },
  {
   "cell_type": "code",
   "execution_count": 187,
   "metadata": {
    "scrolled": true
   },
   "outputs": [
    {
     "data": {
      "text/plain": [
       "(array([[[1.18394351]],\n",
       " \n",
       "        [[1.04515522]]]),\n",
       " array([[[ 0.00549615],\n",
       "         [-0.00398426],\n",
       "         [ 0.01217698],\n",
       "         ...,\n",
       "         [ 0.01006763],\n",
       "         [-0.00603082],\n",
       "         [ 0.00512604]],\n",
       " \n",
       "        [[ 0.00650742],\n",
       "         [ 0.0084882 ],\n",
       "         [-0.03506374],\n",
       "         ...,\n",
       "         [ 0.00338665],\n",
       "         [ 0.00046216],\n",
       "         [ 0.01134339]]]))"
      ]
     },
     "execution_count": 187,
     "metadata": {},
     "output_type": "execute_result"
    }
   ],
   "source": [
    "ls_lr(excess_r_Mp[\"^GSPC\"].to_numpy(),[excess_r_Mj[\"GE\"].to_numpy(), excess_r_Mj[\"MSFT\"].to_numpy()])"
   ]
  },
  {
   "cell_type": "code",
   "execution_count": 188,
   "metadata": {},
   "outputs": [
    {
     "data": {
      "text/plain": [
       "(array([[1.03397223]]),\n",
       " array([[ 1.74663375e-03],\n",
       "        [ 5.98268637e-03],\n",
       "        [ 6.46847230e-05],\n",
       "        ...,\n",
       "        [ 8.00202156e-03],\n",
       "        [-5.32852703e-04],\n",
       "        [ 6.51600467e-03]]))"
      ]
     },
     "execution_count": 188,
     "metadata": {},
     "output_type": "execute_result"
    }
   ],
   "source": [
    "ls_lr(excess_r_Mp[\"^GSPC\"].to_numpy(), excess_r_Pj[\"Portfolio\"].to_numpy())"
   ]
  },
  {
   "cell_type": "markdown",
   "metadata": {},
   "source": [
    "### Covariance and Correlation Matrix"
   ]
  },
  {
   "cell_type": "code",
   "execution_count": 189,
   "metadata": {},
   "outputs": [],
   "source": [
    "def sigma_hat(x):\n",
    "    # Assuming data in [Ticker, Sample, Value] format\n",
    "    x = np.array(x)\n",
    "    if len(x.shape) == 2:\n",
    "        sx = np.swapaxes([x], 0, 1)\n",
    "    else:\n",
    "        sx = np.swapaxes(x, 0, 1)\n",
    "    sam_size = sx.shape[0]\n",
    "    x_delta = sx - np.mean(sx, axis=0)\n",
    "    \n",
    "    sig_hat = 1/(sam_size-1)*np.sum([np.matmul(cxd, np.transpose(cxd)) for cxd in x_delta], axis=0)\n",
    "    \n",
    "    return sig_hat\n",
    "    \n",
    "def ro_hat(x):\n",
    "    sig_hat = sigma_hat(x)\n",
    "    ro_hat = np.zeros(sig_hat.shape)\n",
    "    for i in range(sig_hat.shape[0]):\n",
    "        for j in range(sig_hat.shape[1]):\n",
    "            ro_hat[i][j] = sig_hat[i][j]/(np.sqrt(sig_hat[i][i])*np.sqrt(sig_hat[j][j]))\n",
    "            \n",
    "    return ro_hat\n"
   ]
  },
  {
   "cell_type": "markdown",
   "metadata": {},
   "source": [
    "#### Testing"
   ]
  },
  {
   "cell_type": "code",
   "execution_count": 190,
   "metadata": {},
   "outputs": [
    {
     "name": "stdout",
     "output_type": "stream",
     "text": [
      "(5, 2, 1)\n",
      "[[2.]\n",
      " [3.]]\n",
      "(2, 1)\n",
      "(1, 2)\n",
      "[[0. 0.]\n",
      " [0. 0.]]\n"
     ]
    }
   ],
   "source": [
    "a = np.ones((2,5,1))*3\n",
    "a[0] = a[0]-1\n",
    "a = np.swapaxes(a, 0, 1)\n",
    "print(a.shape)\n",
    "print(np.mean(a, axis=0))\n",
    "\n",
    "a_ = a - np.mean(a, axis=0)\n",
    "print((a_[0]).shape)\n",
    "print(np.transpose(a_[0]).shape)\n",
    "print(1/(5-1)*np.sum([np.matmul(ca, np.transpose(ca)) for ca in a_], axis = 0))\n",
    "# for i in range(len(a)):\n",
    "#     print(a[i] - np.mean(a, axis=0))"
   ]
  },
  {
   "cell_type": "code",
   "execution_count": 191,
   "metadata": {},
   "outputs": [
    {
     "name": "stdout",
     "output_type": "stream",
     "text": [
      "[[0.00027188 0.00032199 0.00020861 0.00018453]\n",
      " [0.00032199 0.00044171 0.00019964 0.00021129]\n",
      " [0.00020861 0.00019964 0.00043531 0.00018652]\n",
      " [0.00018453 0.00021129 0.00018652 0.00017847]]\n",
      "[[1.         0.92914206 0.6063728  0.83770705]\n",
      " [0.92914206 1.         0.45528948 0.75252591]\n",
      " [0.6063728  0.45528948 1.         0.66918365]\n",
      " [0.83770705 0.75252591 0.66918365 1.        ]]\n"
     ]
    }
   ],
   "source": [
    "x_2 = excess_r_Mj[\"GE\"].to_numpy()\n",
    "x = [excess_r_Pj[\"Portfolio\"].to_numpy(), excess_r_Mj[\"GE\"].to_numpy(), excess_r_Mj[\"MSFT\"].to_numpy(), excess_r_Mp[\"^GSPC\"].to_numpy()]\n",
    "\n",
    "print(sigma_hat(x))\n",
    "print(ro_hat(x))"
   ]
  },
  {
   "cell_type": "markdown",
   "metadata": {},
   "source": [
    "### YW Solver"
   ]
  },
  {
   "cell_type": "markdown",
   "metadata": {},
   "source": [
    "#### Autocorrelations"
   ]
  },
  {
   "cell_type": "code",
   "execution_count": 65,
   "metadata": {},
   "outputs": [],
   "source": [
    "def acor(x, lag=None):\n",
    "    if lag == None:\n",
    "        lag = len(x)//2\n",
    "    x = x - np.mean(x)\n",
    "    rs_full=np.correlate(x, x, \"full\")\n",
    "    rs_mid = len(rs_full)//2\n",
    "    rs = rs_full[rs_mid:rs_mid+lag]\n",
    "    rs=rs/rs[0]\n",
    "    \n",
    "    return rs\n",
    "    "
   ]
  },
  {
   "cell_type": "code",
   "execution_count": 69,
   "metadata": {},
   "outputs": [
    {
     "name": "stdout",
     "output_type": "stream",
     "text": [
      "[ 1.          0.08169007 -0.11928914 -0.19089116  0.48319441  0.09570693\n",
      " -0.07671951 -0.31142154 -0.06839282 -0.12720035  0.03947922]\n"
     ]
    }
   ],
   "source": [
    "print(acor(np.random.normal(size=16),11))"
   ]
  },
  {
   "cell_type": "code",
   "execution_count": 52,
   "metadata": {},
   "outputs": [
    {
     "name": "stdout",
     "output_type": "stream",
     "text": [
      "[ 1.          0.03628753 -0.1188518  -0.14075253  0.13418904  0.27101062\n",
      " -0.06590494 -0.01290768 -0.10466976  0.11607545]\n"
     ]
    }
   ],
   "source": [
    "lag=10\n",
    "a = np.random.normal(size=20)\n",
    "v = a\n",
    "rs_full=np.correlate(a, v,\"full\")\n",
    "rs_mid = len(rs_full)//2\n",
    "rs = rs_full[rs_mid:rs_mid+lag]\n",
    "rs=rs/rs[0]\n",
    "print(rs)\n",
    "\n",
    "# Cross Correlations are faster on using scipy.signal.correlate using FFT"
   ]
  },
  {
   "cell_type": "markdown",
   "metadata": {},
   "source": [
    "#### Toeplitz Matrix"
   ]
  },
  {
   "cell_type": "code",
   "execution_count": 46,
   "metadata": {},
   "outputs": [],
   "source": [
    "# Stand-in implementation for lack of scipy, real numbers only\n",
    "\n",
    "def toeplitz_from_vector(x):\n",
    "    toeplitz = []\n",
    "    p = len(x)+1\n",
    "    for i in range(1,p):\n",
    "        a = np.array(x[:len(x)-i+1])\n",
    "        b = np.flip(x[1:i])\n",
    "        np.flip(x[:i])\n",
    "        toeplitz.append(np.concatenate((b,a)))\n",
    "    return np.array(toeplitz)\n",
    "        "
   ]
  },
  {
   "cell_type": "code",
   "execution_count": 49,
   "metadata": {},
   "outputs": [
    {
     "name": "stdout",
     "output_type": "stream",
     "text": [
      "[[1. 2. 3. 4. 5. 6. 7. 8. 9.]\n",
      " [2. 1. 2. 3. 4. 5. 6. 7. 8.]\n",
      " [3. 2. 1. 2. 3. 4. 5. 6. 7.]\n",
      " [4. 3. 2. 1. 2. 3. 4. 5. 6.]\n",
      " [5. 4. 3. 2. 1. 2. 3. 4. 5.]\n",
      " [6. 5. 4. 3. 2. 1. 2. 3. 4.]\n",
      " [7. 6. 5. 4. 3. 2. 1. 2. 3.]\n",
      " [8. 7. 6. 5. 4. 3. 2. 1. 2.]\n",
      " [9. 8. 7. 6. 5. 4. 3. 2. 1.]]\n"
     ]
    }
   ],
   "source": [
    "x = [1,2,3,4,5,6,7,8,9]\n",
    "print(toeplitz_from_vector(x))"
   ]
  },
  {
   "cell_type": "code",
   "execution_count": 48,
   "metadata": {},
   "outputs": [
    {
     "name": "stdout",
     "output_type": "stream",
     "text": [
      "[7 6 5 4 3 2 1 2]\n"
     ]
    }
   ],
   "source": [
    "i = 7\n",
    "x = [1,2,3,4,5,6,7,8]\n",
    "a = np.array(x[:len(x)-i+1])\n",
    "b = np.flip(x[1:i])\n",
    "print(np.concatenate((b,a)))"
   ]
  },
  {
   "cell_type": "code",
   "execution_count": 4,
   "metadata": {},
   "outputs": [
    {
     "name": "stdout",
     "output_type": "stream",
     "text": [
      "Requirement already satisfied: scipy in /Users/anthonylaw/anaconda3/envs/gym_trade/lib/python3.8/site-packages (1.9.2)\n",
      "Requirement already satisfied: numpy<1.26.0,>=1.18.5 in /Users/anthonylaw/anaconda3/envs/gym_trade/lib/python3.8/site-packages (from scipy) (1.22.3)\n"
     ]
    }
   ],
   "source": [
    "!pip install scipy\n",
    "\n",
    "# TO_DO: Fix scipy mac module not found issue "
   ]
  },
  {
   "cell_type": "markdown",
   "metadata": {},
   "source": [
    "#### Constructing Autocorrelation Matrix"
   ]
  },
  {
   "cell_type": "code",
   "execution_count": 81,
   "metadata": {},
   "outputs": [],
   "source": [
    "x = np.random.normal(size=20)\n",
    "p = 8"
   ]
  },
  {
   "cell_type": "code",
   "execution_count": 85,
   "metadata": {},
   "outputs": [
    {
     "name": "stdout",
     "output_type": "stream",
     "text": [
      "[ 1.         -0.37033229  0.20092717 -0.31298704  0.22202811 -0.00294906\n",
      "  0.00250472  0.03253089]\n",
      "[-0.37033229  0.20092717 -0.31298704  0.22202811 -0.00294906  0.00250472\n",
      "  0.03253089 -0.371797  ]\n"
     ]
    }
   ],
   "source": [
    "rs = acor(x, lag=p+1)\n",
    "\n",
    "Rv = rs[:-1]\n",
    "rv = rs[1:]\n",
    "print(Rv)\n",
    "print(rv)"
   ]
  },
  {
   "cell_type": "code",
   "execution_count": 86,
   "metadata": {},
   "outputs": [
    {
     "name": "stdout",
     "output_type": "stream",
     "text": [
      "[[ 1.         -0.37033229  0.20092717 -0.31298704  0.22202811 -0.00294906\n",
      "   0.00250472  0.03253089]\n",
      " [-0.37033229  1.         -0.37033229  0.20092717 -0.31298704  0.22202811\n",
      "  -0.00294906  0.00250472]\n",
      " [ 0.20092717 -0.37033229  1.         -0.37033229  0.20092717 -0.31298704\n",
      "   0.22202811 -0.00294906]\n",
      " [-0.31298704  0.20092717 -0.37033229  1.         -0.37033229  0.20092717\n",
      "  -0.31298704  0.22202811]\n",
      " [ 0.22202811 -0.31298704  0.20092717 -0.37033229  1.         -0.37033229\n",
      "   0.20092717 -0.31298704]\n",
      " [-0.00294906  0.22202811 -0.31298704  0.20092717 -0.37033229  1.\n",
      "  -0.37033229  0.20092717]\n",
      " [ 0.00250472 -0.00294906  0.22202811 -0.31298704  0.20092717 -0.37033229\n",
      "   1.         -0.37033229]\n",
      " [ 0.03253089  0.00250472 -0.00294906  0.22202811 -0.31298704  0.20092717\n",
      "  -0.37033229  1.        ]]\n"
     ]
    }
   ],
   "source": [
    "R = toeplitz_from_vector(Rv)\n",
    "print(R)"
   ]
  },
  {
   "cell_type": "markdown",
   "metadata": {},
   "source": [
    "#### Fitting $\\phi$"
   ]
  },
  {
   "cell_type": "code",
   "execution_count": 105,
   "metadata": {},
   "outputs": [],
   "source": [
    "def ar_fit(x, lag):\n",
    "    rs = acor(x, lag+1)\n",
    "    R = toeplitz_from_vector(rs[:-1])\n",
    "    rv = rs[1:]\n",
    "    R_inv = np.linalg.inv(R)\n",
    "    phi = np.matmul(R_inv, rv)\n",
    "    return phi"
   ]
  },
  {
   "cell_type": "code",
   "execution_count": 98,
   "metadata": {},
   "outputs": [],
   "source": [
    "x = np.random.normal(size=20)\n",
    "p = 5"
   ]
  },
  {
   "cell_type": "code",
   "execution_count": 106,
   "metadata": {},
   "outputs": [
    {
     "name": "stdout",
     "output_type": "stream",
     "text": [
      "[-0.43024108 -0.8212244  -0.26836486 -0.50752138 -0.11116597]\n"
     ]
    }
   ],
   "source": [
    "print(ar_fit(x,p))"
   ]
  },
  {
   "cell_type": "code",
   "execution_count": 107,
   "metadata": {},
   "outputs": [],
   "source": [
    "rs = acor(x, p+1)"
   ]
  },
  {
   "cell_type": "code",
   "execution_count": 108,
   "metadata": {},
   "outputs": [
    {
     "name": "stdout",
     "output_type": "stream",
     "text": [
      "[[ 1.         -0.24233257 -0.45455371  0.2997321  -0.17121517]\n",
      " [-0.24233257  1.         -0.24233257 -0.45455371  0.2997321 ]\n",
      " [-0.45455371 -0.24233257  1.         -0.24233257 -0.45455371]\n",
      " [ 0.2997321  -0.45455371 -0.24233257  1.         -0.24233257]\n",
      " [-0.17121517  0.2997321  -0.45455371 -0.24233257  1.        ]]\n",
      "[-0.24233257 -0.45455371  0.2997321  -0.17121517 -0.03867428]\n"
     ]
    }
   ],
   "source": [
    "R = toeplitz_from_vector(rs[:-1])\n",
    "rv = rs[1:]\n",
    "print(R)\n",
    "print(rv)"
   ]
  },
  {
   "cell_type": "code",
   "execution_count": 109,
   "metadata": {},
   "outputs": [
    {
     "name": "stdout",
     "output_type": "stream",
     "text": [
      "[[1.93015372 0.73056207 1.54661991 0.34605393 0.89838065]\n",
      " [0.73056207 1.78852415 1.15488769 0.95773442 0.34605393]\n",
      " [1.54661991 1.15488769 2.96577744 1.15488769 1.54661991]\n",
      " [0.34605393 0.95773442 1.15488769 1.78852415 0.73056207]\n",
      " [0.89838065 0.34605393 1.54661991 0.73056207 1.93015372]]\n"
     ]
    }
   ],
   "source": [
    "R_inv = np.linalg.inv(R)\n",
    "print(R_inv)"
   ]
  },
  {
   "cell_type": "code",
   "execution_count": 110,
   "metadata": {},
   "outputs": [
    {
     "name": "stdout",
     "output_type": "stream",
     "text": [
      "[-0.43024108 -0.8212244  -0.26836486 -0.50752138 -0.11116597]\n"
     ]
    }
   ],
   "source": [
    "phi = np.matmul(R_inv, rv)\n",
    "print(phi)"
   ]
  },
  {
   "cell_type": "markdown",
   "metadata": {},
   "source": [
    "#### Fitting real data"
   ]
  },
  {
   "cell_type": "code",
   "execution_count": null,
   "metadata": {},
   "outputs": [],
   "source": []
  }
 ],
 "metadata": {
  "kernelspec": {
   "display_name": "Python 3",
   "language": "python",
   "name": "python3"
  },
  "language_info": {
   "codemirror_mode": {
    "name": "ipython",
    "version": 3
   },
   "file_extension": ".py",
   "mimetype": "text/x-python",
   "name": "python",
   "nbconvert_exporter": "python",
   "pygments_lexer": "ipython3",
   "version": "3.8.18"
  }
 },
 "nbformat": 4,
 "nbformat_minor": 5
}
